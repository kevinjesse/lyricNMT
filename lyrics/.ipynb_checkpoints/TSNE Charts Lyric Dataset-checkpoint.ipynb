{
 "cells": [
  {
   "cell_type": "code",
   "execution_count": 1,
   "metadata": {},
   "outputs": [
    {
     "name": "stderr",
     "output_type": "stream",
     "text": [
      "/Users/kjesse/anaconda3/lib/python3.6/site-packages/ipykernel_launcher.py:26: DeprecationWarning: Call to deprecated `most_similar` (Method will be removed in 4.0.0, use self.wv.most_similar() instead).\n",
      "/Users/kjesse/anaconda3/lib/python3.6/site-packages/ipykernel_launcher.py:31: DeprecationWarning: Call to deprecated `__getitem__` (Method will be removed in 4.0.0, use self.wv.__getitem__() instead).\n"
     ]
    },
    {
     "name": "stdout",
     "output_type": "stream",
     "text": [
      "('world', 'hard', 'loving', 'good', 'its', 'remember', 'forget', 'enough', 'youre', 'mean', 'fail', 'than', 'shoot', 'lovely', 'makes', 'gets', 'die', 'even', 'beautiful', 'late', 'till', 'shes', 'hear', 'much', 'new', 'them', 'tried', 'sorry', 'theres', 'doing', 'sad', 'saw', 'youve', 'his', 'stop', 'sometimes', 'different', 'nobody', 'happy', 'wrong', 'satisfied', 'hope', 'game', 'try', 'until', 'bring', 'along', 'matter', 'cannot', 'refuse')\n"
     ]
    },
    {
     "data": {
      "text/plain": [
       "<matplotlib.figure.Figure at 0x1a1025d358>"
      ]
     },
     "metadata": {},
     "output_type": "display_data"
    },
    {
     "name": "stderr",
     "output_type": "stream",
     "text": [
      "/Users/kjesse/anaconda3/lib/python3.6/site-packages/ipykernel_launcher.py:58: DeprecationWarning: Call to deprecated `__getitem__` (Method will be removed in 4.0.0, use self.wv.__getitem__() instead).\n"
     ]
    },
    {
     "data": {
      "text/plain": [
       "<matplotlib.figure.Figure at 0x1a10b44978>"
      ]
     },
     "metadata": {},
     "output_type": "display_data"
    }
   ],
   "source": [
    "from gensim.models import Word2Vec\n",
    "from gensim.models.word2vec import LineSentence\n",
    "\n",
    "\n",
    "    \n",
    "    \n",
    "    \n",
    "sentences = LineSentence('./data/sentences.txt')\n",
    "# with open('./data/sentences.txt') as f:\n",
    "#     content = f.read().replace('\\n', '')\n",
    "model = Word2Vec(sentences)\n",
    "\n",
    "\n",
    "import numpy as np\n",
    "import matplotlib.pyplot as plt\n",
    " \n",
    "from sklearn.manifold import TSNE\n",
    "\n",
    "# print(b.most_similar('love', topn=5))\n",
    "# print(sentences)\n",
    "\n",
    "\n",
    "\n",
    "\n",
    "target = 'cold'\n",
    "t = model.most_similar(target,topn=50)\n",
    "sim = list(zip(*t))\n",
    "arr = []\n",
    "sim0 = list(sim[0]) +[target]\n",
    "for word in sim0:\n",
    "        arr.append(model[word])\n",
    "# arr.append(model['love'])\n",
    "arr = np.array(arr)\n",
    "\n",
    "# find tsne coords for 2 dimensions\n",
    "tsne = TSNE(n_components=2, random_state=0)\n",
    "np.set_printoptions(suppress=True)\n",
    "Y = tsne.fit_transform(arr)\n",
    "\n",
    "x_coords = Y[:, 0]\n",
    "y_coords = Y[:, 1]\n",
    "\n",
    "# display scatter plot\n",
    "plt.figure(1)\n",
    "plt.scatter(x_coords, y_coords)\n",
    "print(sim[0])\n",
    "for label, x, y in zip(sim0, x_coords, y_coords):\n",
    "    plt.annotate(label, xy=(x, y), xytext=(0, 0), textcoords='offset points')\n",
    "plt.xlim(x_coords.min()+0.00005, x_coords.max()+0.00005)\n",
    "plt.ylim(y_coords.min()+0.00005, y_coords.max()+0.00005)\n",
    "# plt.title(\"Word Embedding Space For Word cold\")\n",
    "plt.suptitle(\"Word Embedding Space Around 'cold'\")\n",
    "plt.axis('off')\n",
    "plt.show()\n",
    "\n",
    "\n",
    "plt.figure(2)\n",
    "X = model[model.wv.vocab]\n",
    "# tsne = TSNE(n_components=2)\n",
    "X_tsne = tsne.fit_transform(X)\n",
    "plt.scatter(X_tsne[:, 0], X_tsne[:, 1])\n",
    "plt.suptitle(\"Word Embedding Space For Maroon 5 Songs\")\n",
    "plt.axis('off')\n",
    "plt.show()"
   ]
  },
  {
   "cell_type": "code",
   "execution_count": null,
   "metadata": {},
   "outputs": [],
   "source": []
  },
  {
   "cell_type": "code",
   "execution_count": null,
   "metadata": {},
   "outputs": [],
   "source": []
  },
  {
   "cell_type": "code",
   "execution_count": null,
   "metadata": {},
   "outputs": [],
   "source": []
  },
  {
   "cell_type": "code",
   "execution_count": null,
   "metadata": {},
   "outputs": [],
   "source": []
  }
 ],
 "metadata": {
  "kernelspec": {
   "display_name": "Python 3",
   "language": "python",
   "name": "python3"
  },
  "language_info": {
   "codemirror_mode": {
    "name": "ipython",
    "version": 3
   },
   "file_extension": ".py",
   "mimetype": "text/x-python",
   "name": "python",
   "nbconvert_exporter": "python",
   "pygments_lexer": "ipython3",
   "version": "3.6.4"
  }
 },
 "nbformat": 4,
 "nbformat_minor": 2
}
